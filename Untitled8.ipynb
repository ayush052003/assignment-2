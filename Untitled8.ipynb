{
 "cells": [
  {
   "cell_type": "code",
   "execution_count": 1,
   "id": "90687180-e4b7-423a-98a4-ca11565f6980",
   "metadata": {},
   "outputs": [
    {
     "data": {
      "text/plain": [
       "'Q1. How do you comment code in Python? What are the different types of comments?'"
      ]
     },
     "execution_count": 1,
     "metadata": {},
     "output_type": "execute_result"
    }
   ],
   "source": [
    "'''Q1. How do you comment code in Python? What are the different types of comments?'''"
   ]
  },
  {
   "cell_type": "code",
   "execution_count": 2,
   "id": "c75086ed-7321-466f-93e0-5e2fa3e3ad0b",
   "metadata": {},
   "outputs": [
    {
     "data": {
      "text/plain": [
       "'we can comment the code in python in different ways ,,,if the comment is single line comment we can use hastag(#) at the starting\\nof the code then it will be treated as comment,,,,and if the comment is multiline comment we can use triple single quotes and triple \\ndouble quotes at the beginning and the ending of the comment'"
      ]
     },
     "execution_count": 2,
     "metadata": {},
     "output_type": "execute_result"
    }
   ],
   "source": [
    "'''we can comment the code in python in different ways ,,,if the comment is single line comment we can use hastag(#) at the starting\n",
    "of the code then it will be treated as comment,,,,and if the comment is multiline comment we can use triple single quotes and triple \n",
    "double quotes at the beginning and the ending of the comment'''"
   ]
  },
  {
   "cell_type": "code",
   "execution_count": 3,
   "id": "8c9feef3-f354-444d-80f5-35d028d4a66f",
   "metadata": {},
   "outputs": [
    {
     "data": {
      "text/plain": [
       "'Q2. What are variables in Python? How do you declare and assign values to variables?'"
      ]
     },
     "execution_count": 3,
     "metadata": {},
     "output_type": "execute_result"
    }
   ],
   "source": [
    "'''Q2. What are variables in Python? How do you declare and assign values to variables?'''"
   ]
  },
  {
   "cell_type": "code",
   "execution_count": 9,
   "id": "f1a5b2d0-10ce-440b-b989-023d905ce971",
   "metadata": {},
   "outputs": [
    {
     "name": "stdout",
     "output_type": "stream",
     "text": [
      "23\n",
      "pavilion\n",
      "[34, 67.9, 'kawasaki', 'ducati', (5+6j)]\n"
     ]
    }
   ],
   "source": [
    "'''Python Variable is containers that store values. A Python variable is a name given to a memory location. It is the basic unit of\n",
    "storage in a program.'''\n",
    "\n",
    "#if we want to create a variable in python we simply just have to make a variable like given below\n",
    "\n",
    "a = 23\n",
    "print(a)\n",
    "#so here we can see that a is a variable which stores an integer data type.\n",
    "\n",
    "hp = \"pavilion\"\n",
    "print(hp)\n",
    "#so here as we can see that hp is a variable that stores an atring.\n",
    "\n",
    "b = [34,67.9,\"kawasaki\",\"ducati\",5+6j]\n",
    "print(b)\n",
    "#so here we can see that b is a variable that stores list data type."
   ]
  },
  {
   "cell_type": "code",
   "execution_count": 10,
   "id": "7129a7e7-8e75-4fc2-872b-b25cea65697a",
   "metadata": {},
   "outputs": [
    {
     "data": {
      "text/plain": [
       "'Q3. How do you convert one data type to another in Python?'"
      ]
     },
     "execution_count": 10,
     "metadata": {},
     "output_type": "execute_result"
    }
   ],
   "source": [
    "'''Q3. How do you convert one data type to another in Python?'''\n"
   ]
  },
  {
   "cell_type": "code",
   "execution_count": 13,
   "id": "a4abfa60-840e-4f41-b476-b590ed2c2e2f",
   "metadata": {},
   "outputs": [
    {
     "data": {
      "text/plain": [
       "str"
      ]
     },
     "execution_count": 13,
     "metadata": {},
     "output_type": "execute_result"
    }
   ],
   "source": [
    "'''In python if we want to convert one data type into another ,,,we simply use type() function to convert one data type to another'''\n",
    "\n",
    "a = \"45\"\n",
    "type(a)\n",
    "#now here we can see that the a is a variable which stores the string data type ,,but we have to store the integer data type in a"
   ]
  },
  {
   "cell_type": "code",
   "execution_count": 14,
   "id": "3ba1bcd0-ae0c-4f69-8ab0-1acaae48d795",
   "metadata": {},
   "outputs": [
    {
     "data": {
      "text/plain": [
       "int"
      ]
     },
     "execution_count": 14,
     "metadata": {},
     "output_type": "execute_result"
    }
   ],
   "source": [
    "#so now we will use type casting to convert the data type into another\n",
    "a = int(\"45\")\n",
    "type(a)"
   ]
  },
  {
   "cell_type": "code",
   "execution_count": 15,
   "id": "40a705b7-f314-44f5-9d51-06978eed795d",
   "metadata": {},
   "outputs": [
    {
     "data": {
      "text/plain": [
       "int"
      ]
     },
     "execution_count": 15,
     "metadata": {},
     "output_type": "execute_result"
    }
   ],
   "source": [
    "b = 78\n",
    "type(b)\n",
    "#so here we can see that b stores an integer data type."
   ]
  },
  {
   "cell_type": "code",
   "execution_count": 17,
   "id": "47082551-1570-4804-8da5-a455d41545d0",
   "metadata": {},
   "outputs": [
    {
     "data": {
      "text/plain": [
       "float"
      ]
     },
     "execution_count": 17,
     "metadata": {},
     "output_type": "execute_result"
    }
   ],
   "source": [
    "b = float(45)\n",
    "type(b)\n",
    "#so now it will converted into float data type."
   ]
  },
  {
   "cell_type": "code",
   "execution_count": 18,
   "id": "159d698d-7371-4510-970a-af36cbfda81a",
   "metadata": {},
   "outputs": [
    {
     "data": {
      "text/plain": [
       "'Q4. How do you write and execute a Python script from the command line?'"
      ]
     },
     "execution_count": 18,
     "metadata": {},
     "output_type": "execute_result"
    }
   ],
   "source": [
    "'''Q4. How do you write and execute a Python script from the command line?'''"
   ]
  },
  {
   "cell_type": "code",
   "execution_count": 1,
   "id": "21632bb5-77ba-497d-88d2-45392c716dac",
   "metadata": {},
   "outputs": [],
   "source": [
    "#It’s quite easy to run Python scripts from the command line.\n",
    "\n",
    "# 1.Verify your terminal or command prompt can run Python\n",
    "# 2.Create a Python script that is error-free\n",
    "# 3.Use python your/file/name.py to run your script from the terminal"
   ]
  },
  {
   "cell_type": "code",
   "execution_count": 2,
   "id": "411e381c-3415-4e6e-91fd-3c37286965b8",
   "metadata": {},
   "outputs": [
    {
     "data": {
      "text/plain": [
       "'Q5. Given a list my_list = [1, 2, 3, 4, 5], write the code to slice the list and obtain the sub-list [2, 3].'"
      ]
     },
     "execution_count": 2,
     "metadata": {},
     "output_type": "execute_result"
    }
   ],
   "source": [
    "'''Q5. Given a list my_list = [1, 2, 3, 4, 5], write the code to slice the list and obtain the sub-list [2, 3].'''"
   ]
  },
  {
   "cell_type": "code",
   "execution_count": 3,
   "id": "b50fb449-bd9d-42f4-bd5d-754999b867e8",
   "metadata": {},
   "outputs": [
    {
     "data": {
      "text/plain": [
       "[2, 3]"
      ]
     },
     "execution_count": 3,
     "metadata": {},
     "output_type": "execute_result"
    }
   ],
   "source": [
    "#acc to question we have to write a python code for slice the given list \n",
    "my_list = [1,2,3,4,5]\n",
    "\n",
    "#now we will slice this list to get the required list\n",
    "my_list[1:3]"
   ]
  },
  {
   "cell_type": "code",
   "execution_count": 4,
   "id": "7e9013bc-9efd-4085-a602-3aa397bfbedb",
   "metadata": {},
   "outputs": [
    {
     "data": {
      "text/plain": [
       "'Q6. What is a complex number in mathematics, and how is it represented in Python?'"
      ]
     },
     "execution_count": 4,
     "metadata": {},
     "output_type": "execute_result"
    }
   ],
   "source": [
    "'''Q6. What is a complex number in mathematics, and how is it represented in Python?'''"
   ]
  },
  {
   "cell_type": "code",
   "execution_count": 7,
   "id": "c220c89f-17f1-4738-b609-507c25bd618b",
   "metadata": {},
   "outputs": [
    {
     "data": {
      "text/plain": [
       "5.0"
      ]
     },
     "execution_count": 7,
     "metadata": {},
     "output_type": "execute_result"
    }
   ],
   "source": [
    "# In mathematics the numbers that are represented in a form of (a+ib),where a and b are real and i is imaginary(iota).\n",
    "# but if we talk about complex numbers in python then it will be represented as (a+bj).lets take an example\n",
    "\n",
    "a = 2+5j\n",
    "a.imag\n",
    "# so now a.imag will print the imaginary part of the value stored in the variable a."
   ]
  },
  {
   "cell_type": "code",
   "execution_count": 8,
   "id": "024ea1e4-1af4-4ef5-b1ee-2db678529170",
   "metadata": {},
   "outputs": [
    {
     "data": {
      "text/plain": [
       "2.0"
      ]
     },
     "execution_count": 8,
     "metadata": {},
     "output_type": "execute_result"
    }
   ],
   "source": [
    "a.real\n",
    "# so now a.real will print the real part of the value stored in variable a."
   ]
  },
  {
   "cell_type": "code",
   "execution_count": 9,
   "id": "7672d0a4-d421-4566-b5be-e8214a49f5a6",
   "metadata": {},
   "outputs": [
    {
     "data": {
      "text/plain": [
       "'Q7. What is the correct way to declare a variable named age and assign the value 25 to it?'"
      ]
     },
     "execution_count": 9,
     "metadata": {},
     "output_type": "execute_result"
    }
   ],
   "source": [
    "'''Q7. What is the correct way to declare a variable named age and assign the value 25 to it?'''"
   ]
  },
  {
   "cell_type": "code",
   "execution_count": 11,
   "id": "a34c809e-0ba3-4802-a8b6-5d3a73f5b070",
   "metadata": {},
   "outputs": [
    {
     "name": "stdin",
     "output_type": "stream",
     "text": [
      "enter the age:  25\n"
     ]
    }
   ],
   "source": [
    "# so acc to question we have to make a variable named age and have to store the integer value(25)\n",
    "age = 25\n",
    "# so we have to keep in mind that value which is get stored in age will be an integer.\n",
    "# if the value stored in the age is other than integer then we have to convert it into integer by taype casting.\n",
    "age = \"25\"\n",
    "# so here the vaalue stored in age is string ,,so firstly we have to convert it into integer.\n",
    "age = int(\"25\")\n",
    "# or by user input.\n",
    "age = int(input(\"enter the age: \"))\n",
    "# so after this the value which get stored in age will be integer type."
   ]
  },
  {
   "cell_type": "code",
   "execution_count": 12,
   "id": "0b04c428-acf0-498f-944e-8349119f57e2",
   "metadata": {},
   "outputs": [
    {
     "data": {
      "text/plain": [
       "'Q8. Declare a variable named price and assign the value 9.99 to it. What data type does this variable \\nbelong to?'"
      ]
     },
     "execution_count": 12,
     "metadata": {},
     "output_type": "execute_result"
    }
   ],
   "source": [
    "'''Q8. Declare a variable named price and assign the value 9.99 to it. What data type does this variable \n",
    "belong to?'''"
   ]
  },
  {
   "cell_type": "code",
   "execution_count": 14,
   "id": "d4c7febb-5a17-4288-b3b2-45e84bdde8e4",
   "metadata": {},
   "outputs": [
    {
     "data": {
      "text/plain": [
       "float"
      ]
     },
     "execution_count": 14,
     "metadata": {},
     "output_type": "execute_result"
    }
   ],
   "source": [
    "# so acc to question we have to make an variable named as price.\n",
    "price = 9.99\n",
    "# now question asking that which type of data type this variable contains.\n",
    "# we can easily find out which type of data type this variable stores by the help of type function.\n",
    "\n",
    "type(price)\n",
    "\n",
    "# so thi will give float as an output.means float type of data type this variable stores."
   ]
  },
  {
   "cell_type": "code",
   "execution_count": 15,
   "id": "8b2ac8b9-89f3-411c-a38f-0efc534447e0",
   "metadata": {},
   "outputs": [
    {
     "data": {
      "text/plain": [
       "'Q9. Create a variable named name and assign your full name to it as a string. How would you print the \\nvalue of this variable?'"
      ]
     },
     "execution_count": 15,
     "metadata": {},
     "output_type": "execute_result"
    }
   ],
   "source": [
    "'''Q9. Create a variable named name and assign your full name to it as a string. How would you print the \n",
    "value of this variable?'''"
   ]
  },
  {
   "cell_type": "code",
   "execution_count": 17,
   "id": "1b24e7fb-b4b8-4712-906e-4f77784d32ef",
   "metadata": {},
   "outputs": [
    {
     "name": "stdout",
     "output_type": "stream",
     "text": [
      "kawasaki ninja\n",
      "ninja zx10-r\n"
     ]
    }
   ],
   "source": [
    "# so acc to question we have to make an variable named name.\n",
    "name = \"kawasaki ninja\"\n",
    "\n",
    "# now we have to print the value of this variable,,,so we simply use print function print().\n",
    "print(name)\n",
    "\n",
    "# so we can see in the output that by the help of print function we can print the value of that variable......\n",
    "# lets take more example...\n",
    "a = \"ninja zx10-r\"\n",
    "print(a)"
   ]
  },
  {
   "cell_type": "code",
   "execution_count": 18,
   "id": "f1d16f41-b131-45e8-8a99-ede9b1c1700d",
   "metadata": {},
   "outputs": [
    {
     "data": {
      "text/plain": [
       "'Q10. Given the string \"Hello, World!\", extract the substring \"World\".'"
      ]
     },
     "execution_count": 18,
     "metadata": {},
     "output_type": "execute_result"
    }
   ],
   "source": [
    "'''Q10. Given the string \"Hello, World!\", extract the substring \"World\".'''"
   ]
  },
  {
   "cell_type": "code",
   "execution_count": 3,
   "id": "0914398f-3798-41f9-95fb-14ea2a641066",
   "metadata": {},
   "outputs": [
    {
     "data": {
      "text/plain": [
       "'World'"
      ]
     },
     "execution_count": 3,
     "metadata": {},
     "output_type": "execute_result"
    }
   ],
   "source": [
    "# given string is ....\n",
    "a = \"Hello, World!\"\n",
    "a[7:12]\n",
    "# so as we can see that by this simple way we can access the World from the given string."
   ]
  },
  {
   "cell_type": "code",
   "execution_count": 4,
   "id": "924e3bbf-37e3-4627-8e23-804d4a240b6c",
   "metadata": {},
   "outputs": [
    {
     "data": {
      "text/plain": [
       "'Q11. Create a variable named \"is_student\" and assign it a boolean value indicating whether you are \\ncurrently a student or not.'"
      ]
     },
     "execution_count": 4,
     "metadata": {},
     "output_type": "execute_result"
    }
   ],
   "source": [
    "'''Q11. Create a variable named \"is_student\" and assign it a boolean value indicating whether you are \n",
    "currently a student or not.'''"
   ]
  },
  {
   "cell_type": "code",
   "execution_count": null,
   "id": "217d3d73-2a52-46f7-a290-a4948795588b",
   "metadata": {},
   "outputs": [],
   "source": [
    "# acc to question we have to make a variable.....\n",
    "is_student = True\n",
    "# this will indicates that you are a student"
   ]
  }
 ],
 "metadata": {
  "kernelspec": {
   "display_name": "Python 3 (ipykernel)",
   "language": "python",
   "name": "python3"
  },
  "language_info": {
   "codemirror_mode": {
    "name": "ipython",
    "version": 3
   },
   "file_extension": ".py",
   "mimetype": "text/x-python",
   "name": "python",
   "nbconvert_exporter": "python",
   "pygments_lexer": "ipython3",
   "version": "3.10.8"
  }
 },
 "nbformat": 4,
 "nbformat_minor": 5
}
